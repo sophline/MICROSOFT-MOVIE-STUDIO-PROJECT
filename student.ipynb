{
 "cells": [
  {
   "cell_type": "markdown",
   "metadata": {},
   "source": [
    "## Final Project Submission\n",
    "\n",
    "Please fill out:\n",
    "* Student name: Solphine Joseph\n",
    "* Student pace: full time\n",
    "* Scheduled project review date/time: \n",
    "* Instructor name: Nikita/Diana\n",
    "* Blog post URL:\n"
   ]
  },
  {
   "cell_type": "markdown",
   "metadata": {},
   "source": [
    "MOVIE STUDIO CREATION PROJECT\n",
    "BUSINESS UNDERSTANDING \n",
    "INTRODUCTION\n",
    "Microsoft company is a leading company in technology that develops a wide range of software,services and devices.However the company has not yet ventured into movie production .This project aims at coming up with data analysis and actionable insights that will inform the company's stakeholders on what steps to take in order  to have better perfoming movies as microsoft studio.\n",
    "The goals of this project will be as follows:\n",
    "           -To show the movies that are best perfoming according to the reviews \n",
    "           -To show show the relation between the best perfoming movies and other features\n",
    "           -To use visualizations to show the best perfoming movies in relation to factors\n",
    "           -Finally to give recommendations based on the findings of the analysis.\n"
   ]
  },
  {
   "cell_type": "markdown",
   "metadata": {},
   "source": [
    "DATA UNDERSTANDING \n",
    "Data required in this project is sourced from the sources listed below:\n",
    "          1.IMDB-https://www.imdb.com/\n",
    "          2.Box Office Mojo -https://www.boxofficemojo.com/date/?ref_=bo_nb_shs_tab\n",
    "          3.Rotten Tomatoes -https://www.rottentomatoes.com/\n",
    "          4.The movie DB-https://www.themoviedb.org/\n",
    "          5.The Numbers -'https://www.the-numbers.com/'\n",
    "\n",
    "The data has been compiled from the internet and compressed to a folder that gives access to all required information.The data was preffered since it is up to date."
   ]
  },
  {
   "cell_type": "code",
   "execution_count": null,
   "metadata": {},
   "outputs": [],
   "source": [
    "#Checking size of mov"
   ]
  },
  {
   "cell_type": "code",
   "execution_count": 1,
   "metadata": {},
   "outputs": [],
   "source": [
    "# importing necessary libraries for analysis\n",
    "import sqlite3# necessary for the im.db file\n",
    "import pandas as pd #necessary for the dataframes\n",
    "import numpy as np# necessary for numerical data"
   ]
  },
  {
   "cell_type": "code",
   "execution_count": null,
   "metadata": {},
   "outputs": [],
   "source": [
    "#"
   ]
  }
 ],
 "metadata": {
  "kernelspec": {
   "display_name": "Python 3",
   "language": "python",
   "name": "python3"
  },
  "language_info": {
   "codemirror_mode": {
    "name": "ipython",
    "version": 3
   },
   "file_extension": ".py",
   "mimetype": "text/x-python",
   "name": "python",
   "nbconvert_exporter": "python",
   "pygments_lexer": "ipython3",
   "version": "3.11.5"
  }
 },
 "nbformat": 4,
 "nbformat_minor": 2
}
